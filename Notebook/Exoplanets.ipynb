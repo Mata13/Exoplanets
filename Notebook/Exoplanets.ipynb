{
 "cells": [
  {
   "cell_type": "markdown",
   "id": "da3162a0-1c45-425d-8025-308b7ce6cdf5",
   "metadata": {},
   "source": [
    "<font color='IndianRed'>\n",
    "<font size=10> \n",
    "\n",
    "**Identificación de Exoplanetas Confirmados: Factores Clave y Implicaciones para la Habitabilidad**"
   ]
  },
  {
   "cell_type": "markdown",
   "id": "4e3154a8-99c6-405c-aa92-59bfb6449e14",
   "metadata": {},
   "source": [
    "<font color = 'Black'>\n",
    "<font size = 3>\n",
    "\n",
    "**Autor**: [zicknezz13]  \n",
    "**Última actualización**: [10/04/25]  \n",
    "\n",
    "---"
   ]
  },
  {
   "cell_type": "markdown",
   "id": "ba208696-4668-4c8a-a292-dcea82d83cf1",
   "metadata": {},
   "source": [
    "<font color = 'DodgerBlue'>\n",
    "<font size = 6>\n",
    "    \n",
    "**Contexto Científico 🌌**"
   ]
  },
  {
   "cell_type": "markdown",
   "id": "1a4707bc-3800-409b-8d3d-cfe0cc143d02",
   "metadata": {},
   "source": [
    "<font color = 'Black'>\n",
    "<font size = 3>\n",
    "\n",
    "- Los **exoplanetas** son planetas fuera de nuestro sistema solar. Desde 1992, se han descubierto miles, pero **solo el 30% están confirmados** (NASA Exoplanet Archive, 2023).\n",
    "\n",
    "- **Problema**: Confirmar un exoplaneta requiere años de observación. ¿Podemos predecir qué candidatos tienen más probabilidades de ser confirmados usando datos de masa, órbita y estrellas anfitrionas?\n",
    "\n",
    "---"
   ]
  },
  {
   "cell_type": "markdown",
   "id": "de6827ae-cb3a-4d9f-8b6f-48e8a4f17a65",
   "metadata": {},
   "source": [
    "<font color = 'DodgerBlue'>\n",
    "<font size = 6>\n",
    "    \n",
    "**Objetivos**"
   ]
  },
  {
   "cell_type": "markdown",
   "id": "23011639-a1f3-465b-9651-0cc1c64e981b",
   "metadata": {},
   "source": [
    "<font color = 'Black'>\n",
    "<font size = 3>\n",
    "\n",
    "- Identificar **patrones** en **exoplanetas** **confirmados** vs. **candidatos** y predecir su **estado** (e.g., precisión de las mediciones, propiedades de la estrella anfitriona, etc.).\n",
    "- Analizar indicadores de **habitabilidad planetaria** (e.g., temperatura de equilibrio, distancia orbital., etc.).\n",
    "- Desarrollar un **modelo predictivo** para clasificar el estado de los planetas (**confirmado**/**candidato**).\n",
    "- Crear un dashboard para visualizar la información.\n",
    "\n",
    "---"
   ]
  },
  {
   "cell_type": "markdown",
   "id": "66bf9ca4-b58f-4aeb-926d-cbac30fffe5d",
   "metadata": {},
   "source": [
    "<font color = 'DodgerBlue'>\n",
    "<font size = 6>\n",
    "    \n",
    "**Preguntas clave**"
   ]
  },
  {
   "cell_type": "markdown",
   "id": "cdb1ab44-1f44-4eb8-9f7e-bacb425aa586",
   "metadata": {},
   "source": [
    "<font color = 'Black'>\n",
    "<font size = 3>\n",
    "\n",
    "1. ¿Presentan los exoplanetas confirmados errores de medición de masa/radio significativamente menores?\n",
    "2. ¿Se correlaciona la metalicidad de la estrella anfitriona (`star_metallicity`) con la probabilidad de confirmación de planetas?\n",
    "3. ¿Qué métodos de detección (`detection_type`) son los más fiables para confirmar planetas?\n",
    "\n",
    "---"
   ]
  }
 ],
 "metadata": {
  "kernelspec": {
   "display_name": "Python 3 (ipykernel)",
   "language": "python",
   "name": "python3"
  },
  "language_info": {
   "codemirror_mode": {
    "name": "ipython",
    "version": 3
   },
   "file_extension": ".py",
   "mimetype": "text/x-python",
   "name": "python",
   "nbconvert_exporter": "python",
   "pygments_lexer": "ipython3",
   "version": "3.10.16"
  }
 },
 "nbformat": 4,
 "nbformat_minor": 5
}
