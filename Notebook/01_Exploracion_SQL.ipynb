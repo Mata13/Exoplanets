{
 "cells": [
  {
   "cell_type": "markdown",
   "id": "da3162a0-1c45-425d-8025-308b7ce6cdf5",
   "metadata": {},
   "source": [
    "<font color='IndianRed'>\n",
    "<font size=10> \n",
    "\n",
    "**Identificación de Exoplanetas Confirmados: Factores Clave y Implicaciones para la Habitabilidad**"
   ]
  },
  {
   "cell_type": "markdown",
   "id": "4e3154a8-99c6-405c-aa92-59bfb6449e14",
   "metadata": {},
   "source": [
    "<font color = 'Black'>\n",
    "<font size = 3>\n",
    "\n",
    "**Autor**: [zicknezz13]  \n",
    "**Última actualización**: [10/04/25]  \n",
    "\n",
    "---"
   ]
  },
  {
   "cell_type": "markdown",
   "id": "ba208696-4668-4c8a-a292-dcea82d83cf1",
   "metadata": {},
   "source": [
    "<font color = 'DodgerBlue'>\n",
    "<font size = 6>\n",
    "    \n",
    "**Contexto Científico 🌌**"
   ]
  },
  {
   "cell_type": "markdown",
   "id": "1a4707bc-3800-409b-8d3d-cfe0cc143d02",
   "metadata": {},
   "source": [
    "<font color = 'Black'>\n",
    "<font size = 3>\n",
    "\n",
    "- Los **exoplanetas** son planetas fuera de nuestro sistema solar. Desde 1992, se han descubierto miles, pero **solo el 30% están confirmados** (NASA Exoplanet Archive, 2023).\n",
    "\n",
    "- **Problema**: Confirmar un exoplaneta requiere años de observación. ¿Podemos predecir qué candidatos tienen más probabilidades de ser confirmados usando datos de masa, órbita y estrellas anfitrionas?\n",
    "\n",
    "---"
   ]
  },
  {
   "cell_type": "markdown",
   "id": "de6827ae-cb3a-4d9f-8b6f-48e8a4f17a65",
   "metadata": {},
   "source": [
    "<font color = 'DodgerBlue'>\n",
    "<font size = 6>\n",
    "    \n",
    "**Objetivos**"
   ]
  },
  {
   "cell_type": "markdown",
   "id": "23011639-a1f3-465b-9651-0cc1c64e981b",
   "metadata": {},
   "source": [
    "<font color = 'Black'>\n",
    "<font size = 3>\n",
    "\n",
    "- Identificar **patrones** en **exoplanetas** **confirmados** vs. **candidatos** y predecir su **estado** (e.g., propiedades de la estrella anfitriona, etc.).\n",
    "- Analizar indicadores de **habitabilidad planetaria** (e.g., temperatura, distancia orbital., etc.).\n",
    "- Desarrollar un **modelo predictivo** para clasificar el estado de los planetas (**confirmado**/**candidato**).\n",
    "- Crear un dashboard para visualizar la información.\n",
    "\n",
    "---"
   ]
  },
  {
   "cell_type": "markdown",
   "id": "66bf9ca4-b58f-4aeb-926d-cbac30fffe5d",
   "metadata": {},
   "source": [
    "<font color = 'DodgerBlue'>\n",
    "<font size = 6>\n",
    "    \n",
    "**Preguntas clave**"
   ]
  },
  {
   "cell_type": "markdown",
   "id": "cdb1ab44-1f44-4eb8-9f7e-bacb425aa586",
   "metadata": {},
   "source": [
    "<font color = 'Black'>\n",
    "<font size = 3>\n",
    "\n",
    "1. ¿Presentan los exoplanetas confirmados errores de medición de masa/radio significativamente menores?\n",
    "2. ¿Se correlaciona la metalicidad de la estrella anfitriona (`star_metallicity`) con la probabilidad de confirmación de planetas?\n",
    "3. ¿Qué métodos de detección (`detection_type`) son los más fiables para confirmar planetas?\n",
    "\n",
    "---"
   ]
  },
  {
   "cell_type": "markdown",
   "id": "4a345018-2da2-4d28-ae0c-d2eb26a3fcad",
   "metadata": {},
   "source": [
    "<font color = 'DodgerBlue'>\n",
    "<font size = 6>\n",
    "    \n",
    "**Data 📊**"
   ]
  },
  {
   "cell_type": "markdown",
   "id": "2978f6ee-5dcd-48ea-be97-007febe2c94d",
   "metadata": {},
   "source": [
    "<font color = 'Black'>\n",
    "<font size = 3>\n",
    "\n",
    "### Fuente\n",
    "Los datos fueron obtenidos en el [Catálogo de Exoplanetas](https://exoplanet.eu/home/) en formato CSV. \n",
    "- Los datos se pueden descargar de manera gratuita. \n",
    "- Datos actualizados a la fecha de desacarga: [18/04/25].   \n",
    "\n",
    "### Variables Relevantes\n",
    "- **Planetas**: Masa (`mass(m_jup)`), radio (`radius(r_jup)`), periodo orbital, excentricidad.  \n",
    "- **Estrellas**: Metalicidad (`star_metallicity`), temperatura efectiva (`star_teff`), distancia (`star_distance`).\n",
    "\n",
    "> ⚠️ **Datos actualizados en el link del Catálogo de Exoplanetas.**\n",
    "\n",
    "---"
   ]
  },
  {
   "cell_type": "markdown",
   "id": "ed803781-13e0-4324-b36e-10aa432c5dcd",
   "metadata": {},
   "source": [
    "<font color = 'DodgerBlue'>\n",
    "<font size = 6>\n",
    "    \n",
    "**Exploracion inicial del dataset con SQL**"
   ]
  },
  {
   "cell_type": "markdown",
   "id": "c335887f-609d-400f-8974-6882d93359de",
   "metadata": {},
   "source": [
    "<font color = 'DodgerBlue'>\n",
    "<font size = 5>\n",
    "    \n",
    "- **Número de planetas en cada status y su porcentaje**"
   ]
  },
  {
   "cell_type": "markdown",
   "id": "e4c4baa4-2c3e-4169-9324-1a741d93df7c",
   "metadata": {},
   "source": [
    "<font color = 'Black'>\n",
    "<font size = 3>\n",
    "\n",
    "Se muestra una tabla con el conteo de planetas por cada *planet_status* y su porcentaje.\n",
    "\n",
    "| Planet_status | Count | Percentage |\n",
    "|---------------|-------|------------|\n",
    "| Unconfirmed   | 5     | 0.1        |\n",
    "| Retracted     | 75    | 0.8        |\n",
    "| Controversial | 70    | 0.7        |\n",
    "| Candidate     | 2381  | 23.9       |\n",
    "| Confirmed     | 7450  | 74.6       |\n",
    "\n",
    "> ⚠️ **Los datos revelan que la mayoría de los planetas son 'confirmados' (74.6%), seguidos por los 'candidatos' (23.9%), con una proporción mínima en otras categorías. Estos dos *status* representan en 98.5% del total de exoplanetas descubiertos.**\n",
    "\n",
    "La tabla anterior se obtuvo con el siguiente código de **PostgreSQL**:\n",
    "\n",
    "```sql\n",
    "-- Obtenemos el número de planetas que hay en cada status de los planetas y el porcentaje que representa.\n",
    "SELECT planet_status, COUNT(*) AS conteo,\n",
    "ROUND(COUNT(*) * 100.0 / SUM(COUNT(*)) OVER(), 1) AS percentage\n",
    "FROM exoplanets_catalog\n",
    "GROUP BY planet_status;\n",
    "```\n",
    "\n",
    "---"
   ]
  },
  {
   "cell_type": "markdown",
   "id": "7f77e6b8-8b75-40d8-9c82-5c029c3ebc7e",
   "metadata": {},
   "source": [
    "<font color = 'DodgerBlue'>\n",
    "<font size = 5>\n",
    "    \n",
    "- **Porcentaje de valores nulos en algunas columnas del dataset**"
   ]
  },
  {
   "cell_type": "markdown",
   "id": "f26c0995-1350-4c7e-8a96-f22c47bdb9e6",
   "metadata": {},
   "source": [
    "<font color = 'Black'>\n",
    "<font size = 3>\n",
    "\n",
    "La siguiente tabla muestra el porcentaje de valores nulos que hay en cada una de las columnas seleccionadas.\n",
    "\n",
    "| mass | radius | orbital_period | star_metallicity | temp_calculated | temp_measured | geometric_albedo | detection_type | molecules | star_distance | star_mass | star_sp_type | star_age | star_teff | star_detected_disc |\n",
    "|------|--------|----------------|------------------|-----------------|---------------|------------------|----------------|-----------|---------------|-----------|--------------|----------|-----------|--------------------|\n",
    "| 61.8 | 32.6   | 16.4           | 29.2             | 59.3            | 98.6          | 99.8             | 0.0            | 98.5      | 19.7          | 15.7      | 55.9         | 59.2     | 19.6      | 98.2               |\n",
    "\n",
    "> ⚠️ **Se observa que la columna 'mass' presenta un 61.8% de valores nulos, lo que limita el conjunto de datos utilizable para análisis estadístico a solo un 38%.**\n",
    "\n",
    "> ⚠️ **Las columnas 'temp_measured', 'geometric_albedo', 'star_detected_disc' y 'molecules' son las que contienen los mayores porcentajes de valores faltantes.**\n",
    "\n",
    "> ⚠️ **Estos porcentajes proporcionan una visión general de la calidad del dataset y la cantidad de datos disponibles para realizar análisis y extraer conclusiones a través de la visualización.**\n",
    "\n",
    "La tabla anterior se obtuvo con el siguiente código de **PostgreSQL**:\n",
    "\n",
    "```sql\n",
    "-- Obtenemos el porcentaje de valores nulos de algunas columnas:\n",
    "SELECT\n",
    "  ROUND((COUNT(*) - COUNT(mass)) * 100.0 / COUNT(*), 1) AS mass_null,\n",
    "  ROUND((COUNT(*) - COUNT(radius)) * 100.0 / COUNT(*), 1) as radius_null,\n",
    "  ROUND((COUNT(*) - COUNT(orbital_period)) * 100.0 / COUNT(*), 1) AS orbital_period_null,\n",
    "  ROUND((COUNT(*) - COUNT(star_metallicity)) * 100.0 / COUNT(*), 1) AS metallicity_nulls,\n",
    "  ROUND((COUNT(*) - COUNT(temp_calculated)) * 100.0 / COUNT(*), 1) as temp_calculated_null,\n",
    "  ROUND((COUNT(*) - COUNT(temp_measured)) * 100.0 / COUNT(*), 1) as temp_measured_null,\n",
    "  ROUND((COUNT(*) - COUNT(geometric_albedo)) * 100.0 / COUNT(*), 1) as geometric_albedo_null,\n",
    "  ROUND((COUNT(*) - COUNT(detection_type)) * 100.0 / COUNT(*), 1) as detection_type_null,\n",
    "  ROUND((COUNT(*) - COUNT(molecules)) * 100.0 / COUNT(*), 1) as molecules_null,\n",
    "  ROUND((COUNT(*) - COUNT(star_distance)) * 100.0 / COUNT(*), 1) as star_distance_null,\n",
    "  ROUND((COUNT(*) - COUNT(star_mass)) * 100.0 / COUNT(*), 1) as star_mass_null,\n",
    "  ROUND((COUNT(*) - COUNT(star_sp_type)) * 100.0 / COUNT(*), 1) as star_sp_type_null,\n",
    "  ROUND((COUNT(*) - COUNT(star_age)) * 100.0 / COUNT(*), 1) as star_age_null,\n",
    "  ROUND((COUNT(*) - COUNT(star_teff)) * 100.0 / COUNT(*), 1) as teff_null,\n",
    "  ROUND((COUNT(*) - COUNT(star_detected_disc)) * 100.0 / COUNT(*), 1) as star_detected_disc_null\n",
    "FROM exoplanets_catalog;\n",
    "```\n",
    "\n",
    "---"
   ]
  },
  {
   "cell_type": "markdown",
   "id": "512311cf-a370-49b0-850d-251a98cf1467",
   "metadata": {},
   "source": [
    "<font color = 'DodgerBlue'>\n",
    "<font size = 5>\n",
    "    \n",
    "- **Número de exoplanetas descubiertos por método, su porcentaje y masa promedio**"
   ]
  },
  {
   "cell_type": "markdown",
   "id": "77d4c410-ebd3-457a-a345-cf81fcdee64c",
   "metadata": {},
   "source": [
    "<font color = 'Black'>\n",
    "<font size = 3>\n",
    "\n",
    "La siguiente tabla muestra de manera resumida la cantidad de exoplanetas descubiertos por cada método, su porcentaje respecto al total de planetas descubiertos y la masa promedio de los exoplanetas. Algunos planetas se han descubierto mediante la combinacion de métodos.\n",
    "\n",
    "| Detection_type              | Count | Percentege | Avg_Mass_Jup |\n",
    "|-----------------------------|-------|------------|--------------|\n",
    "| Primary Transit             | 6272  | 62.8       | 2.394        |\n",
    "| Radial Velocity             | 1358  | 13.6       | 14.602       |\n",
    "| Imaging                     | 1091  | 10.9       | 31.070       |\n",
    "| Microlensing                | 326   | 3.3        | 7.034        |\n",
    "| Timing                      | 207   | 2.1        | 24.384       |\n",
    "| Other                       | 205   | 2.1        | 12.711       |\n",
    "| Astrometry                  | 142   | 1.4        | 28.531       |\n",
    "| Radial Velocity, Astrometry | 117   | 1.2        | 24.996       |\n",
    "| Imaging, Astrometry         | 52    | 0.5        | 39.477       |\n",
    "| Imaging, Other              | 48    | 0.5        | 27.376       |\n",
    "| TTV                         | 43    | 0.4        | 2.572        |\n",
    "\n",
    "> ⚠️ **El análisis de los métodos de detección revela que la técnica de 'tránsito primario' ha contribuido al 62% de los descubrimientos de exoplanetas, seguida por la 'velocidad radial' (13%) y el método de imagen con un (10%).**\n",
    "\n",
    "> ⚠️ **Si bien el método de 'tránsito primario' es fundamental en la detección, los planetas así descubiertos tienden a ser considerablemente masivos, con un promedio de dos veces la masa de Júpiter.**\n",
    "\n",
    "> ⚠️ **En contraste, los exoplanetas más masivos se han identificado mediante diversas técnicas, incluyendo 'imagen', 'timing', 'astrometría', 'velocidad radial y astrometría', e 'imagen y astrometría', según se indica en la tabla.**\n",
    "\n",
    "La tabla anterior se obtuvo con el siguiente código de **PostgreSQL**:\n",
    "\n",
    "```sql\n",
    "-- Obtenemos una tabla con el número de planetas encontrados por detection_type, su porcentaje y masa promedio\n",
    "SELECT detection_type, COUNT(*) AS conteo,\n",
    "ROUND(COUNT(*) * 100.0 / SUM(COUNT(*)) OVER(), 1) AS percentage, AVG(mass) AS avg_mass_jup\n",
    "FROM exoplanets_catalog\n",
    "GROUP BY detection_type\n",
    "ORDER BY COUNT(*) DESC;\n",
    "```\n",
    "\n",
    "---"
   ]
  }
 ],
 "metadata": {
  "kernelspec": {
   "display_name": "Python 3 (ipykernel)",
   "language": "python",
   "name": "python3"
  },
  "language_info": {
   "codemirror_mode": {
    "name": "ipython",
    "version": 3
   },
   "file_extension": ".py",
   "mimetype": "text/x-python",
   "name": "python",
   "nbconvert_exporter": "python",
   "pygments_lexer": "ipython3",
   "version": "3.10.16"
  }
 },
 "nbformat": 4,
 "nbformat_minor": 5
}
